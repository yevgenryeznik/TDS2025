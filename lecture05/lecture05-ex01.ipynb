{
 "cells": [
  {
   "cell_type": "markdown",
   "metadata": {},
   "source": [
    "# Using `PySINDy` package for discovering dynamics form data\n",
    "\n",
    "We begin with loading necessary packages."
   ]
  },
  {
   "cell_type": "code",
   "execution_count": 1,
   "metadata": {},
   "outputs": [],
   "source": [
    "import numpy as np\n",
    "import matplotlib.pyplot as plt\n",
    "import pysindy as ps"
   ]
  },
  {
   "cell_type": "code",
   "execution_count": 2,
   "metadata": {},
   "outputs": [],
   "source": [
    "sigma, rho, beta= 10, 28, 8/3\n",
    "theta = (sigma, rho, beta)\n",
    "\n",
    "def lorentz(state, t0, theta = theta):\n",
    "    x, y, z = state\n",
    "    sigma, rho, beta = theta\n",
    "\n",
    "    return [sigma*(y-x), x*(rho-z)-y, x*y-beta*z]"
   ]
  },
  {
   "cell_type": "code",
   "execution_count": 3,
   "metadata": {},
   "outputs": [],
   "source": [
    "from scipy. integrate import odeint\n",
    "\n",
    "state0 = (0, 1, 20)\n",
    "dt = 0.002\n",
    "t = np.arange(0, 10, dt)\n",
    "\n",
    "dt= 0.002\n",
    "t = np. arange (0 , 10 , dt )\n",
    "X0= np.array([-8, 8, 27])\n",
    "X = odeint(lorentz , X0 , t )"
   ]
  },
  {
   "cell_type": "code",
   "execution_count": 5,
   "metadata": {},
   "outputs": [
    {
     "name": "stdout",
     "output_type": "stream",
     "text": [
      "(x)' = -9.999 x + 9.999 y\n",
      "(y)' = 27.992 x + -0.999 y + -1.000 x z\n",
      "(z)' = -2.666 z + 1.000 x y\n",
      "(x)' = -9.999 x + 9.999 y\n",
      "(y)' = 27.992 x + -0.999 y + -1.000 x z\n",
      "(z)' = -2.666 z + 1.000 x y\n"
     ]
    }
   ],
   "source": [
    "model= ps.SINDy(feature_names=('x', 'y', 'z'))\n",
    "model.fit(X, t=dt)\n",
    "model.print()"
   ]
  },
  {
   "cell_type": "code",
   "execution_count": null,
   "metadata": {},
   "outputs": [],
   "source": []
  }
 ],
 "metadata": {
  "language_info": {
   "name": "python"
  }
 },
 "nbformat": 4,
 "nbformat_minor": 2
}
