{
 "cells": [
  {
   "cell_type": "markdown",
   "metadata": {},
   "source": [
    "# Using `PySINDy` package for discovering dynamics form data. Feature library.\n",
    "\n",
    "The code in this notebook is adapted based on the examples from [pysindy.readthedocs.io/en/latest/](pysindy.readthedocs.io/en/latest/).\n",
    "\n",
    "We begin with loading necessary packages."
   ]
  },
  {
   "cell_type": "code",
   "execution_count": 1,
   "metadata": {},
   "outputs": [],
   "source": [
    "import numpy as np\n",
    "import matplotlib.pyplot as plt\n",
    "import seaborn as sns\n",
    "import pysindy as ps"
   ]
  },
  {
   "cell_type": "code",
   "execution_count": 2,
   "metadata": {},
   "outputs": [],
   "source": [
    "from pysindy.feature_library import CustomLibrary, FourierLibrary, PolynomialLibrary, ConcatLibrary"
   ]
  },
  {
   "cell_type": "markdown",
   "metadata": {},
   "source": [
    "Creating a data sample, $(x, y)$: $(0, -1), (1, 0), (2, -1)$."
   ]
  },
  {
   "cell_type": "code",
   "execution_count": 3,
   "metadata": {},
   "outputs": [],
   "source": [
    "x = np.array([[0.0, -1.0], [1.0, 0.0], [2.0, -1.0]])"
   ]
  },
  {
   "cell_type": "code",
   "execution_count": 4,
   "metadata": {},
   "outputs": [
    {
     "data": {
      "text/plain": [
       "AxesArray([[ 1.        ,  0.36787944, -0.84147098],\n",
       "           [ 2.71828183,  1.        ,  0.84147098],\n",
       "           [ 7.3890561 ,  0.36787944,  0.84147098]])"
      ]
     },
     "execution_count": null,
     "metadata": {},
     "output_type": "execute_result"
    }
   ],
   "source": [
    "# custom library\n",
    "fcns = [lambda x: np.exp(x), lambda x, y: np.sin(x+y)]\n",
    "lib = CustomLibrary(library_functions=fcns).fit(x)\n",
    "lib.transform(x)"
   ]
  },
  {
   "cell_type": "code",
   "execution_count": 5,
   "metadata": {},
   "outputs": [
    {
     "data": {
      "text/plain": [
       "['f0(x0)', 'f0(x1)', 'f1(x0,x1)']"
      ]
     },
     "execution_count": null,
     "metadata": {},
     "output_type": "execute_result"
    }
   ],
   "source": [
    "lib.get_feature_names()"
   ]
  },
  {
   "cell_type": "code",
   "execution_count": 6,
   "metadata": {},
   "outputs": [
    {
     "data": {
      "text/plain": [
       "AxesArray([[ 0.        ,  1.        , -0.84147098,  0.54030231,  0.        ,  1.        , -0.90929743, -0.41614684],\n",
       "           [ 0.84147098,  0.54030231,  0.        ,  1.        ,  0.90929743, -0.41614684,  0.        ,  1.        ],\n",
       "           [ 0.90929743, -0.41614684, -0.84147098,  0.54030231, -0.7568025 , -0.65364362, -0.90929743, -0.41614684]])"
      ]
     },
     "execution_count": null,
     "metadata": {},
     "output_type": "execute_result"
    }
   ],
   "source": [
    "# Fourier library\n",
    "lib = FourierLibrary()\n",
    "lib = FourierLibrary(n_frequencies=2).fit(x)\n",
    "lib.transform(x)"
   ]
  },
  {
   "cell_type": "code",
   "execution_count": 7,
   "metadata": {},
   "outputs": [
    {
     "data": {
      "text/plain": [
       "['sin(1 x0)',\n",
       " 'cos(1 x0)',\n",
       " 'sin(1 x1)',\n",
       " 'cos(1 x1)',\n",
       " 'sin(2 x0)',\n",
       " 'cos(2 x0)',\n",
       " 'sin(2 x1)',\n",
       " 'cos(2 x1)']"
      ]
     },
     "execution_count": null,
     "metadata": {},
     "output_type": "execute_result"
    }
   ],
   "source": [
    "lib.get_feature_names()"
   ]
  },
  {
   "cell_type": "code",
   "execution_count": 8,
   "metadata": {},
   "outputs": [
    {
     "data": {
      "text/plain": [
       "AxesArray([[ 1.,  0., -1.,  0., -0.,  1.,  0., -0.,  0., -1.],\n",
       "           [ 1.,  1.,  0.,  1.,  0.,  0.,  1.,  0.,  0.,  0.],\n",
       "           [ 1.,  2., -1.,  4., -2.,  1.,  8., -4.,  2., -1.]])"
      ]
     },
     "execution_count": null,
     "metadata": {},
     "output_type": "execute_result"
    }
   ],
   "source": [
    "# polynomial library\n",
    "lib = PolynomialLibrary(degree=3).fit(x)\n",
    "lib.transform(x)"
   ]
  },
  {
   "cell_type": "code",
   "execution_count": 9,
   "metadata": {},
   "outputs": [
    {
     "data": {
      "text/plain": [
       "['1',\n",
       " 'x0',\n",
       " 'x1',\n",
       " 'x0^2',\n",
       " 'x0 x1',\n",
       " 'x1^2',\n",
       " 'x0^3',\n",
       " 'x0^2 x1',\n",
       " 'x0 x1^2',\n",
       " 'x1^3']"
      ]
     },
     "execution_count": null,
     "metadata": {},
     "output_type": "execute_result"
    }
   ],
   "source": [
    "lib.get_feature_names()"
   ]
  },
  {
   "cell_type": "code",
   "execution_count": 10,
   "metadata": {},
   "outputs": [
    {
     "data": {
      "text/plain": [
       "AxesArray([[ 1.        ,  0.36787944, -0.84147098,  0.        ,  1.        , -0.84147098,  0.54030231,  0.        ,\n",
       "             1.        , -0.90929743, -0.41614684,  1.        ,  0.        , -1.        ,  0.        , -0.        ,\n",
       "             1.        ,  0.        , -0.        ,  0.        , -1.        ],\n",
       "           [ 2.71828183,  1.        ,  0.84147098,  0.84147098,  0.54030231,  0.        ,  1.        ,  0.90929743,\n",
       "            -0.41614684,  0.        ,  1.        ,  1.        ,  1.        ,  0.        ,  1.        ,  0.        ,\n",
       "             0.        ,  1.        ,  0.        ,  0.        ,  0.        ],\n",
       "           [ 7.3890561 ,  0.36787944,  0.84147098,  0.90929743, -0.41614684, -0.84147098,  0.54030231, -0.7568025 ,\n",
       "            -0.65364362, -0.90929743, -0.41614684,  1.        ,  2.        , -1.        ,  4.        , -2.        ,\n",
       "             1.        ,  8.        , -4.        ,  2.        , -1.        ]])"
      ]
     },
     "execution_count": null,
     "metadata": {},
     "output_type": "execute_result"
    }
   ],
   "source": [
    "# concatenate libraries\n",
    "lib = ConcatLibrary([CustomLibrary(library_functions=fcns), FourierLibrary(n_frequencies=2), PolynomialLibrary(degree=3)])\n",
    "lib.fit(x).transform(x)"
   ]
  },
  {
   "cell_type": "code",
   "execution_count": 11,
   "metadata": {},
   "outputs": [
    {
     "data": {
      "text/plain": [
       "['f0(x0)',\n",
       " 'f0(x1)',\n",
       " 'f1(x0,x1)',\n",
       " 'sin(1 x0)',\n",
       " 'cos(1 x0)',\n",
       " 'sin(1 x1)',\n",
       " 'cos(1 x1)',\n",
       " 'sin(2 x0)',\n",
       " 'cos(2 x0)',\n",
       " 'sin(2 x1)',\n",
       " 'cos(2 x1)',\n",
       " '1',\n",
       " 'x0',\n",
       " 'x1',\n",
       " 'x0^2',\n",
       " 'x0 x1',\n",
       " 'x1^2',\n",
       " 'x0^3',\n",
       " 'x0^2 x1',\n",
       " 'x0 x1^2',\n",
       " 'x1^3']"
      ]
     },
     "execution_count": null,
     "metadata": {},
     "output_type": "execute_result"
    }
   ],
   "source": [
    "lib.get_feature_names()"
   ]
  },
  {
   "cell_type": "code",
   "execution_count": null,
   "metadata": {},
   "outputs": [],
   "source": []
  }
 ],
 "metadata": {
  "language_info": {
   "name": "python"
  }
 },
 "nbformat": 4,
 "nbformat_minor": 2
}
