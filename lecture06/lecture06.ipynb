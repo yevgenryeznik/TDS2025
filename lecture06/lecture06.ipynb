{
 "cells": [
  {
   "cell_type": "markdown",
   "metadata": {},
   "source": [
    "# `PySINDy` package. Hands-on session\n",
    "\n",
    "[check this notebook](https://github.com/dynamicslab/pysindy/blob/master/examples/15_pysindy_lectures.ipynb) for some hints :)"
   ]
  },
  {
   "cell_type": "markdown",
   "metadata": {},
   "source": [
    "## Differentiation"
   ]
  },
  {
   "cell_type": "markdown",
   "metadata": {},
   "source": [
    "Consider two functions: continiuous and discontinuous, for which derivatives _are known_.\n",
    "\n",
    "1. Generate data, given those functions.\n",
    "2. Add some level of noise to the data generated.\n",
    "3. Try different methods of approximating derivatives using `PySINDy` functionality.\n",
    "4. Visulaize analytical and numerically approximated results. "
   ]
  },
  {
   "cell_type": "markdown",
   "metadata": {},
   "source": [
    "## Prey-Predator model"
   ]
  },
  {
   "cell_type": "markdown",
   "metadata": {},
   "source": [
    "Here, we are going to work with a _Prey-Predator model_, which can be modelled by _Lotka-Volterra_ system of ODEs:\n",
    "\n",
    "$$\n",
    "\\left\\{\\begin{aligned}\n",
    "\\frac{d}{dt}X(t) &= \\alpha X(t) - \\beta X(t)Y(t) \\\\\n",
    "\\frac{d}{dt}Y(t) &= -\\gamma Y(t) + \\delta X(t)Y(t)\n",
    "\\end{aligned}\\right.,\n",
    "$$\n",
    "\n",
    "where $X(t)$ and $Y(t)$ are the numbes (in some units, e.g., in thousands) of Preys ($X(t)$) and Predators ($Y(t)$) at time t.\n",
    "\n",
    "Let's assume that model parametsr are:\n",
    "\n",
    "- $\\alpha=1.0$,\n",
    "- $\\beta=0.3$, \n",
    "- $\\gamma=0.2$, \n",
    "- $\\delta=1.0$.\n",
    "\n",
    "\n",
    "Let's consider a time interval $t = [0, 30]$ and initial conditions are $(X(0), Y(0)) = (10, 5)$.\n",
    "\n",
    "\n",
    "1. Generate data from the model, using time step = 0.01, 0.1, 1 (`time_step`). `scipy.integrate.solve_ivp()` function to solve an _initial value problem for a system of ODEs_: \n",
    "    `solve_ivp(t_span=[0, 30], y0=np.array([initial conditions]), max_step=time_step)`\n",
    "\n",
    "2. Apply SINDy algorithm to identify the dynamics:\n",
    "    - try different differentiation methods.\n",
    "    - try different optimizers (SLTSQ).\n",
    "    - try to support the choice of the optimizer parameter by evaluating AUC.\n",
    "\n",
    "3. How the time step affects the results.\n",
    "4. Visualize results: observed data+prediction from the model discovered.\n",
    "\n",
    "To model with `PySINDy` you need setup a model; then, fit it and print."
   ]
  },
  {
   "cell_type": "code",
   "execution_count": null,
   "metadata": {},
   "outputs": [],
   "source": [
    "import pysisndy as ps\n",
    "model = ps.SINDy(\n",
    "    differentiation_method=<differentiation method>,\n",
    "    optimizer=<optimizer>, \n",
    "    feature_library=<libraryr>,\n",
    "    feature_names=<optional>\n",
    ")\n",
    "model.fit(X) \n",
    "model.print()"
   ]
  }
 ],
 "metadata": {
  "language_info": {
   "name": "python"
  }
 },
 "nbformat": 4,
 "nbformat_minor": 2
}
